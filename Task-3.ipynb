{
 "cells": [
  {
   "cell_type": "markdown",
   "id": "subsequent-information",
   "metadata": {},
   "source": [
    "# Task 3: Pandemic\n",
    "---\n",
    "\n",
    "In this notebook we will increase the `n_links` parameter to 4, so that the percolating substance can propagate in all four directions.\n",
    "Instead of starting with the top row of the lattice, we will instead start with a central *nucleus*, and define percolation to occur when the percolating substance reaches *any* of the four boundaries.\n",
    "\n",
    "Our model is very similar to the simple pandemic model proposed [here](http://35.161.88.15/interactive/outbreak/), which is also based on a square lattice, where each node represents a 'unit of population' (e.g. a person, or a village), that can either be\n",
    "* Infected (the live nodes; the percolating substance, a.k.a the virus, occupies the node)\n",
    "* Susceptible (the node has not been infected yet)\n",
    "* Immune (the inert nodes represent vaccinated individuals. We can also add to them with nodes who have previously had the virus, but since recovered)\n",
    "\n",
    "The main aim of this notebook is not to build an accurate model of a pandemic, but to follow through the same analysis as the previous notebook and try to understand the nature of the percolation transition in the infinite-lattice limit.\n",
    "Another way of phrasing this is\n",
    "\n",
    "> What fraction of the population needs to be immune so that there is an effectively zero percent chance of the virus spreading over very large scales (i.e. through a long chain of transmissions)?\n",
    "\n",
    "A similar concept is that of **herd immunity**, which asks\n",
    "\n",
    "> What fraction of the population needs to be immune so that the levels of infection cannot be sustained without constant external input?\n",
    "\n",
    "If the virus reaches the boundary of the lattice (i.e. the simulation percolates), this implies that the initial infection in the centre has led to *at least* one infection on the boundary, which we might interpret as herd immunity not being reached.\n",
    "\n",
    "<div class=\"alert alert-block alert-warning\">\n",
    "<b>Warning!</b> \n",
    "    This model does not pretend to be a realistic model of a pandemic, and herd immunity is not identified with the percolation transition in the way we have just outlined. The point is that properties of models, that we can simulate, can be studied to gain insight into real phenomena, so long as we're careful about it!\n",
    "</div>"
   ]
  },
  {
   "cell_type": "code",
   "execution_count": null,
   "id": "divine-render",
   "metadata": {},
   "outputs": [],
   "source": [
    "from lattice import SquareLattice\n",
    "from model import PercolationModel\n",
    "from parameter_scan import parameter_scan"
   ]
  },
  {
   "cell_type": "markdown",
   "id": "herbal-railway",
   "metadata": {},
   "source": [
    "## Running this variation of the model\n",
    "\n",
    "This is not very different from the 3-link case, but we now specify that each node is linked to all 4 of its nearest neighbours.\n",
    "\n",
    "This is referred to as **isotropic**, which means there is **no preferred direction** (out of the four possible directions defined by the lattice).\n",
    "\n",
    "Run the cell below to see what isotropic propagation looks like on a square lattice."
   ]
  },
  {
   "cell_type": "code",
   "execution_count": null,
   "id": "spatial-juvenile",
   "metadata": {},
   "outputs": [],
   "source": [
    "lattice = SquareLattice(50, n_links=4)\n",
    "model = PercolationModel(lattice)\n",
    "\n",
    "model.animate(51)"
   ]
  },
  {
   "cell_type": "markdown",
   "id": "noticed-nylon",
   "metadata": {},
   "source": [
    "Let's add the inert nodes back in by setting the `q` parameter.\n",
    "\n",
    "Run the cell below. Feel free to play around with different values of `q`."
   ]
  },
  {
   "cell_type": "code",
   "execution_count": null,
   "id": "wrapped-composite",
   "metadata": {},
   "outputs": [],
   "source": [
    "q = 0.35\n",
    "\n",
    "lattice = SquareLattice(50, n_links=4)\n",
    "model = PercolationModel(lattice, q)\n",
    "\n",
    "model.animate(75)"
   ]
  },
  {
   "cell_type": "markdown",
   "id": "increased-disorder",
   "metadata": {},
   "source": [
    "## Finding the percolation threshold\n",
    "\n",
    "Run the cell below, which will run a parameter scan.\n",
    "\n",
    "Note that this may take up to a minute, since we have increased the number of simulations *per data point* to $N = 150$.\n",
    "By increasing $N$ and hence decreasing the standard error on data points, we should be able to see any structure in the residuals more clearly."
   ]
  },
  {
   "cell_type": "code",
   "execution_count": null,
   "id": "seeing-protection",
   "metadata": {},
   "outputs": [],
   "source": [
    "n_rows = 50\n",
    "n_cols = n_rows\n",
    "qmin = 0.25\n",
    "qmax = 0.55\n",
    "N = 150\n",
    "\n",
    "lattice = SquareLattice(n_rows, n_cols, n_links=4)\n",
    "model = PercolationModel(lattice)\n",
    "\n",
    "parameter_scan(model, qmin, qmax, N)"
   ]
  },
  {
   "cell_type": "markdown",
   "id": "beneficial-steal",
   "metadata": {},
   "source": [
    "<div class=\"alert alert-block alert-info\">\n",
    "<b>Lab book 3.1: </b> \n",
    "    Comment on the quality of the logistic best-fit curve, paying particular attention to the residuals.\n",
    "    Copy and paste the figure into your lab book. <b>[2]</b>\n",
    "</div>"
   ]
  },
  {
   "cell_type": "markdown",
   "id": "linear-nepal",
   "metadata": {},
   "source": [
    "## Extrapolating to large lattice sizes\n",
    "\n",
    "Just as in Task 2, you will need to run the cell below for a range of different values of `n_rows` ($L$).\n",
    "This time, the number of columns will be kept equal to the number of rows, not fixed at 50.\n",
    "\n",
    "Record your results in a table, making sure to note down the associated errors on $q_0$ **with an appropriate precision**.\n",
    "Leave columns for the logarithms and the error on $\\ln q_0$.\n",
    "\n",
    "<div class=\"alert alert-block alert-info\">\n",
    "<b>Table 3: </b> \n",
    "    Record your results in a table. <b>[4]</b>\n",
    "</div>\n",
    "\n",
    "Aim to gather results for 10-15 different lattice sizes ranging between `n_rows = 20` and `n_rows = 300`."
   ]
  },
  {
   "cell_type": "code",
   "execution_count": null,
   "id": "chicken-philip",
   "metadata": {},
   "outputs": [],
   "source": [
    "n_rows = 100  # change this!\n",
    "n_cols = n_rows\n",
    "qmin = 0.3\n",
    "qmax = 0.5\n",
    "N = 25\n",
    "numq = 25\n",
    "\n",
    "lattice = SquareLattice(n_rows, n_cols, n_links=4)\n",
    "model = PercolationModel(lattice)\n",
    "\n",
    "parameter_scan(model, qmin, qmax, N, numq)"
   ]
  },
  {
   "cell_type": "markdown",
   "id": "canadian-jumping",
   "metadata": {},
   "source": [
    "<div class=\"alert alert-block alert-info\">\n",
    "<b>Plot 2: </b> \n",
    "Plot a graph of $\\ln q_0$ v.s. $\\ln L$ and draw a line of best fit.\n",
    "    Calculate the gradient of your line, with an estimate of its error. <b>[5]</b>\n",
    "</div>\n",
    "\n",
    "<div class=\"alert alert-block alert-info\">\n",
    "<b>Lab book 3.2: </b> \n",
    "    Discuss your plot.\n",
    "    Is the straight line a good fit to your data (after taking logs)?\n",
    "    Mention the error bars and the residuals in your answer. <b>[3]</b>\n",
    "</div>\n",
    "\n",
    "<div class=\"alert alert-block alert-info\">\n",
    "<b>Lab book 3.3: </b> \n",
    "    What do you think will happen to the value of $q_0$ as the lattice size increases towards infinity? <b>[1]</b>\n",
    "</div>"
   ]
  },
  {
   "cell_type": "markdown",
   "id": "every-pointer",
   "metadata": {},
   "source": [
    "<div class=\"alert alert-block alert-info\">\n",
    "<b>Lab book 3.4: </b> \n",
    "    Suggest one thing that you would change in the model to make it a more realistic model of a virus spreading through a population. <b>[1]</b>\n",
    "</div>\n",
    "\n",
    "<div class=\"alert alert-block alert-danger\">\n",
    "<b>Notebook complete:</b> You've finished the experiment. Give yourself a pat on the back!\n",
    "</div>"
   ]
  },
  {
   "cell_type": "markdown",
   "id": "mounted-commodity",
   "metadata": {},
   "source": [
    "# Extension: playing with the model\n",
    "\n",
    "The percolation model actually started out life as a simple model of a pandemic, so there are some additional parameters to play with which are more specific to the pandemic scenario.\n",
    "\n",
    "The assessed part of the laboratory is finished, so you are of course free to stop here, but you are also welcome to experiment with the model and generate some more interesting animations.\n",
    "\n",
    "Run the following cell to see an example animation."
   ]
  },
  {
   "cell_type": "code",
   "execution_count": null,
   "id": "prostate-partner",
   "metadata": {},
   "outputs": [],
   "source": [
    "lattice = SquareLattice(100, n_links=4)\n",
    "model = PercolationModel(\n",
    "    lattice,\n",
    "    inert_prob=0.25,\n",
    "    transmission_prob=0.25,\n",
    "    recovery_time=14,\n",
    "    recovered_are_inert=True,\n",
    ")\n",
    "\n",
    "model.animate(250, dynamic_overlay=True)"
   ]
  },
  {
   "cell_type": "markdown",
   "id": "adolescent-walker",
   "metadata": {},
   "source": [
    "To see what parameters are available, and an explanation of what they do, you can ask Python to print out the documentation for any given function, class, attribute, method...\n",
    "\n",
    "The syntax for this is just\n",
    "```python\n",
    "help(thing)\n",
    "```\n",
    "\n",
    "The documentation may seem very confusing.\n",
    "Don't worry - as you become more familiar with programming, documentation quickly becomes much easier to comprehend (the same goes for error messages)."
   ]
  },
  {
   "cell_type": "code",
   "execution_count": null,
   "id": "frank-thriller",
   "metadata": {},
   "outputs": [],
   "source": [
    "help(parameter_scan)"
   ]
  },
  {
   "cell_type": "markdown",
   "id": "minor-exhibition",
   "metadata": {},
   "source": [
    "Try running the help function on `SquareLattice` and, if you're feeling brave, `PercolationModel`.\n",
    "\n",
    "In the next cell we introduce `shuffle_prob`, which was originally intended to simulate people travelling around and spreading the virus."
   ]
  },
  {
   "cell_type": "code",
   "execution_count": null,
   "id": "respective-oklahoma",
   "metadata": {},
   "outputs": [],
   "source": [
    "lattice = SquareLattice(100, n_links=4)\n",
    "model = PercolationModel(\n",
    "    lattice,\n",
    "    p_inert=0.25,\n",
    "    transmission_prob=0.25,\n",
    "    recovery_time=14,\n",
    "    recovered_are_inert=True,\n",
    "    shuffle_prob=0.01\n",
    ")\n",
    "\n",
    "model.animate(250, dynamic_overlay=True)"
   ]
  },
  {
   "cell_type": "markdown",
   "id": "passing-knock",
   "metadata": {},
   "source": [
    "How would you extend this model to make it a more realistic model of a pandemic?"
   ]
  },
  {
   "cell_type": "markdown",
   "id": "temporal-louisiana",
   "metadata": {},
   "source": [
    "# Resources\n",
    "\n",
    "These are some nice resources to get you thinking about modelling a pandemic:\n",
    "* [Simulating an epidemic by 3Blue1Brown](https://www.youtube.com/watch?v=gxAaO2rsdIs)\n",
    "* [\"Outbreak\" by Kevin Simler](http://35.161.88.15/interactive/outbreak/)\n",
    "* [People were doing epidemic modelling long before computers...](https://mathworld.wolfram.com/Kermack-McKendrickModel.html)"
   ]
  },
  {
   "cell_type": "code",
   "execution_count": null,
   "id": "sweet-particular",
   "metadata": {},
   "outputs": [],
   "source": []
  }
 ],
 "metadata": {
  "kernelspec": {
   "display_name": "Python 3",
   "language": "python",
   "name": "python3"
  },
  "language_info": {
   "codemirror_mode": {
    "name": "ipython",
    "version": 3
   },
   "file_extension": ".py",
   "mimetype": "text/x-python",
   "name": "python",
   "nbconvert_exporter": "python",
   "pygments_lexer": "ipython3",
   "version": "3.7.6"
  }
 },
 "nbformat": 4,
 "nbformat_minor": 5
}
